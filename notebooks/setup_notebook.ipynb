{
 "cells": [
  {
   "cell_type": "code",
   "execution_count": 1,
   "metadata": {},
   "outputs": [],
   "source": [
    "from footium_api import CachedGqlConnection, GqlConnection\n",
    "from footium_api.queries import get_all_clubs_basic_info, get_clubs_tournament_for_club_ids\n",
    "from my_info import MyInfo\n",
    "\n",
    "gql = CachedGqlConnection(GqlConnection())\n",
    "my_info = MyInfo()\n"
   ]
  },
  {
   "cell_type": "markdown",
   "metadata": {},
   "source": [
    "Update with your wallet addresses or the wallet addresses you wish to follow"
   ]
  },
  {
   "cell_type": "code",
   "execution_count": 2,
   "metadata": {},
   "outputs": [],
   "source": [
    "wallets = [\n",
    "    \"0x0A032289552D817C15C185dBfdf43B812423Ba82\",\n",
    "]\n",
    "my_info.set_wallets(wallets)\n",
    "\n",
    "\n"
   ]
  },
  {
   "cell_type": "markdown",
   "metadata": {},
   "source": [
    "this will set your MY_CLUB_IDS and MY_OWNER_IDS"
   ]
  },
  {
   "cell_type": "code",
   "execution_count": 3,
   "metadata": {},
   "outputs": [],
   "source": [
    "club_ids = []\n",
    "for wallet in wallets:\n",
    "    clubs = get_all_clubs_basic_info(gql, wallet)\n",
    "    ids = [c['id'] for c in clubs]\n",
    "    club_ids.extend(ids)\n",
    "my_info.set_club_ids(club_ids)\n",
    "\n",
    "clubs = get_clubs_tournament_for_club_ids(gql, club_ids)\n",
    "if len(clubs) == 0:\n",
    "    raise ValueError('No clubs found')\n",
    "owner_ids = set(clubs['owner_id'].tolist())\n",
    "my_info.set_owner_ids(owner_ids)"
   ]
  },
  {
   "cell_type": "code",
   "execution_count": 4,
   "metadata": {},
   "outputs": [
    {
     "name": "stdout",
     "output_type": "stream",
     "text": [
      "found 1 wallet(s):['0x0a032289552d817c15c185dbfdf43b812423ba82']\n",
      "found 1 club(s):[2879]\n",
      "found 1 owner(s):[1405]\n"
     ]
    }
   ],
   "source": [
    "# Usage example\n",
    "from my_info import MyInfo\n",
    "my_info = MyInfo()\n",
    "\n",
    "wallets = my_info.get_wallets()\n",
    "print(f\"found {len(wallets)} wallet(s):{wallets}\")\n",
    "\n",
    "club_ids = my_info.get_club_ids()\n",
    "print(f\"found {len(club_ids)} club(s):{club_ids}\")\n",
    "\n",
    "owner_ids = my_info.get_owner_ids()\n",
    "print(f\"found {len(owner_ids)} owner(s):{owner_ids}\")\n"
   ]
  }
 ],
 "metadata": {
  "kernelspec": {
   "display_name": "fapi",
   "language": "python",
   "name": "python3"
  },
  "language_info": {
   "codemirror_mode": {
    "name": "ipython",
    "version": 3
   },
   "file_extension": ".py",
   "mimetype": "text/x-python",
   "name": "python",
   "nbconvert_exporter": "python",
   "pygments_lexer": "ipython3",
   "version": "3.12.3"
  }
 },
 "nbformat": 4,
 "nbformat_minor": 2
}
