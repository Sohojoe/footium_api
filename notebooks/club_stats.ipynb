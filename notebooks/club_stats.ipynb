{
 "cells": [
  {
   "cell_type": "code",
   "execution_count": 1,
   "metadata": {},
   "outputs": [],
   "source": [
    "from footium_api import GqlConnection\n",
    "from footium_api.queries import get_clubs_tournament_for_wallet, get_clubs_tournament_for_owners\n",
    "\n",
    "gql = GqlConnection()"
   ]
  },
  {
   "cell_type": "markdown",
   "metadata": {},
   "source": [
    "Find club_tournaments for a given wallet"
   ]
  },
  {
   "cell_type": "markdown",
   "metadata": {},
   "source": []
  },
  {
   "cell_type": "code",
   "execution_count": 2,
   "metadata": {},
   "outputs": [],
   "source": [
    "from my_info import MyInfo\n",
    "my_info = MyInfo()\n",
    "wallet_address = my_info.get_wallets()[0]"
   ]
  },
  {
   "cell_type": "code",
   "execution_count": 3,
   "metadata": {},
   "outputs": [],
   "source": [
    "club_tournaments = get_clubs_tournament_for_wallet(gql, wallet_address)"
   ]
  },
  {
   "cell_type": "code",
   "execution_count": 4,
   "metadata": {},
   "outputs": [
    {
     "data": {
      "text/html": [
       "<div>\n",
       "<style scoped>\n",
       "    .dataframe tbody tr th:only-of-type {\n",
       "        vertical-align: middle;\n",
       "    }\n",
       "\n",
       "    .dataframe tbody tr th {\n",
       "        vertical-align: top;\n",
       "    }\n",
       "\n",
       "    .dataframe thead th {\n",
       "        text-align: right;\n",
       "    }\n",
       "</style>\n",
       "<table border=\"1\" class=\"dataframe\">\n",
       "  <thead>\n",
       "    <tr style=\"text-align: right;\">\n",
       "      <th></th>\n",
       "      <th>name</th>\n",
       "      <th>division</th>\n",
       "      <th>position</th>\n",
       "      <th>league</th>\n",
       "      <th>tournament_name</th>\n",
       "      <th>tournament_type</th>\n",
       "      <th>owner_id</th>\n",
       "      <th>owner_address</th>\n",
       "    </tr>\n",
       "    <tr>\n",
       "      <th>id</th>\n",
       "      <th></th>\n",
       "      <th></th>\n",
       "      <th></th>\n",
       "      <th></th>\n",
       "      <th></th>\n",
       "      <th></th>\n",
       "      <th></th>\n",
       "      <th></th>\n",
       "    </tr>\n",
       "  </thead>\n",
       "  <tbody>\n",
       "    <tr>\n",
       "      <th>2879</th>\n",
       "      <td>Rocklant</td>\n",
       "      <td>8</td>\n",
       "      <td>-1</td>\n",
       "      <td>77</td>\n",
       "      <td>Division 8 - League 77</td>\n",
       "      <td>LEAGUE</td>\n",
       "      <td>1405</td>\n",
       "      <td>0x0a032289552d817c15c185dbfdf43b812423ba82</td>\n",
       "    </tr>\n",
       "  </tbody>\n",
       "</table>\n",
       "</div>"
      ],
      "text/plain": [
       "          name  division  position  league         tournament_name  \\\n",
       "id                                                                   \n",
       "2879  Rocklant         8        -1      77  Division 8 - League 77   \n",
       "\n",
       "     tournament_type  owner_id                               owner_address  \n",
       "id                                                                          \n",
       "2879          LEAGUE      1405  0x0a032289552d817c15c185dbfdf43b812423ba82  "
      ]
     },
     "execution_count": 4,
     "metadata": {},
     "output_type": "execute_result"
    }
   ],
   "source": [
    "club_tournaments.head()"
   ]
  },
  {
   "cell_type": "code",
   "execution_count": 5,
   "metadata": {},
   "outputs": [
    {
     "ename": "KeyError",
     "evalue": "\"None of ['id'] are in the columns\"",
     "output_type": "error",
     "traceback": [
      "\u001b[0;31m---------------------------------------------------------------------------\u001b[0m",
      "\u001b[0;31mKeyError\u001b[0m                                  Traceback (most recent call last)",
      "\u001b[0;32m/var/folders/6j/f5lz69492ld3n5zcwmpq8ct80000gn/T/ipykernel_35286/1122339645.py\u001b[0m in \u001b[0;36m?\u001b[0;34m()\u001b[0m\n\u001b[1;32m      1\u001b[0m \u001b[0mowners\u001b[0m \u001b[0;34m=\u001b[0m \u001b[0mmy_info\u001b[0m\u001b[0;34m.\u001b[0m\u001b[0mget_club_ids\u001b[0m\u001b[0;34m(\u001b[0m\u001b[0;34m)\u001b[0m\u001b[0;34m\u001b[0m\u001b[0;34m\u001b[0m\u001b[0m\n\u001b[0;32m----> 2\u001b[0;31m \u001b[0mclubs\u001b[0m \u001b[0;34m=\u001b[0m \u001b[0mget_clubs_tournament_for_owners\u001b[0m\u001b[0;34m(\u001b[0m\u001b[0mgql\u001b[0m\u001b[0;34m,\u001b[0m \u001b[0mowners\u001b[0m\u001b[0;34m)\u001b[0m\u001b[0;34m\u001b[0m\u001b[0;34m\u001b[0m\u001b[0m\n\u001b[0m",
      "\u001b[0;32m~/Development/footium_api/footium_api/queries/club_tournaments.py\u001b[0m in \u001b[0;36m?\u001b[0;34m(gql, owner_ids)\u001b[0m\n\u001b[1;32m     12\u001b[0m \u001b[0;32mdef\u001b[0m \u001b[0mget_clubs_tournament_for_owners\u001b[0m\u001b[0;34m(\u001b[0m\u001b[0mgql\u001b[0m\u001b[0;34m:\u001b[0m \u001b[0mGqlConnection\u001b[0m\u001b[0;34m,\u001b[0m \u001b[0mowner_ids\u001b[0m\u001b[0;34m:\u001b[0m \u001b[0mList\u001b[0m\u001b[0;34m[\u001b[0m\u001b[0mint\u001b[0m\u001b[0;34m]\u001b[0m\u001b[0;34m)\u001b[0m \u001b[0;34m->\u001b[0m \u001b[0mpd\u001b[0m\u001b[0;34m.\u001b[0m\u001b[0mDataFrame\u001b[0m\u001b[0;34m:\u001b[0m\u001b[0;34m\u001b[0m\u001b[0;34m\u001b[0m\u001b[0m\n\u001b[1;32m     13\u001b[0m     filter = {\n\u001b[1;32m     14\u001b[0m         \u001b[0;34m\"ownerId\"\u001b[0m\u001b[0;34m:\u001b[0m \u001b[0;34m{\u001b[0m\u001b[0;34m\"in\"\u001b[0m\u001b[0;34m:\u001b[0m \u001b[0mowner_ids\u001b[0m\u001b[0;34m}\u001b[0m\u001b[0;34m,\u001b[0m\u001b[0;34m\u001b[0m\u001b[0;34m\u001b[0m\u001b[0m\n\u001b[1;32m     15\u001b[0m     \u001b[0;34m}\u001b[0m\u001b[0;34m\u001b[0m\u001b[0;34m\u001b[0m\u001b[0m\n\u001b[0;32m---> 16\u001b[0;31m     \u001b[0;32mreturn\u001b[0m \u001b[0mget_clubs_tournament\u001b[0m\u001b[0;34m(\u001b[0m\u001b[0mgql\u001b[0m\u001b[0;34m,\u001b[0m \u001b[0mfilter\u001b[0m\u001b[0;34m)\u001b[0m\u001b[0;34m\u001b[0m\u001b[0;34m\u001b[0m\u001b[0m\n\u001b[0m",
      "\u001b[0;32m~/Development/footium_api/footium_api/queries/club_tournaments.py\u001b[0m in \u001b[0;36m?\u001b[0;34m(gql, filter)\u001b[0m\n\u001b[1;32m     68\u001b[0m     \u001b[0;34m]\u001b[0m\u001b[0;34m\u001b[0m\u001b[0;34m\u001b[0m\u001b[0m\n\u001b[1;32m     69\u001b[0m     \u001b[0mclubs\u001b[0m \u001b[0;34m=\u001b[0m \u001b[0msorted\u001b[0m\u001b[0;34m(\u001b[0m\u001b[0mclubs\u001b[0m\u001b[0;34m,\u001b[0m \u001b[0mkey\u001b[0m\u001b[0;34m=\u001b[0m\u001b[0;32mlambda\u001b[0m \u001b[0mx\u001b[0m\u001b[0;34m:\u001b[0m \u001b[0;34m(\u001b[0m\u001b[0mx\u001b[0m\u001b[0;34m[\u001b[0m\u001b[0;34m\"division\"\u001b[0m\u001b[0;34m]\u001b[0m\u001b[0;34m,\u001b[0m \u001b[0mx\u001b[0m\u001b[0;34m[\u001b[0m\u001b[0;34m\"position\"\u001b[0m\u001b[0;34m]\u001b[0m\u001b[0;34m)\u001b[0m\u001b[0;34m)\u001b[0m\u001b[0;34m\u001b[0m\u001b[0;34m\u001b[0m\u001b[0m\n\u001b[1;32m     70\u001b[0m     \u001b[0;31m# convert to pandas dataframe\u001b[0m\u001b[0;34m\u001b[0m\u001b[0;34m\u001b[0m\u001b[0m\n\u001b[1;32m     71\u001b[0m     \u001b[0;31m# id is the index\u001b[0m\u001b[0;34m\u001b[0m\u001b[0;34m\u001b[0m\u001b[0m\n\u001b[0;32m---> 72\u001b[0;31m     \u001b[0mclubs\u001b[0m \u001b[0;34m=\u001b[0m \u001b[0mpd\u001b[0m\u001b[0;34m.\u001b[0m\u001b[0mDataFrame\u001b[0m\u001b[0;34m(\u001b[0m\u001b[0mclubs\u001b[0m\u001b[0;34m)\u001b[0m\u001b[0;34m.\u001b[0m\u001b[0mset_index\u001b[0m\u001b[0;34m(\u001b[0m\u001b[0;34m\"id\"\u001b[0m\u001b[0;34m)\u001b[0m\u001b[0;34m\u001b[0m\u001b[0;34m\u001b[0m\u001b[0m\n\u001b[0m\u001b[1;32m     73\u001b[0m     \u001b[0;32mreturn\u001b[0m \u001b[0mclubs\u001b[0m\u001b[0;34m\u001b[0m\u001b[0;34m\u001b[0m\u001b[0m\n",
      "\u001b[0;32m/opt/miniconda3/envs/fapi/lib/python3.12/site-packages/pandas/core/frame.py\u001b[0m in \u001b[0;36m?\u001b[0;34m(self, keys, drop, append, inplace, verify_integrity)\u001b[0m\n\u001b[1;32m   6118\u001b[0m                     \u001b[0;32mif\u001b[0m \u001b[0;32mnot\u001b[0m \u001b[0mfound\u001b[0m\u001b[0;34m:\u001b[0m\u001b[0;34m\u001b[0m\u001b[0;34m\u001b[0m\u001b[0m\n\u001b[1;32m   6119\u001b[0m                         \u001b[0mmissing\u001b[0m\u001b[0;34m.\u001b[0m\u001b[0mappend\u001b[0m\u001b[0;34m(\u001b[0m\u001b[0mcol\u001b[0m\u001b[0;34m)\u001b[0m\u001b[0;34m\u001b[0m\u001b[0;34m\u001b[0m\u001b[0m\n\u001b[1;32m   6120\u001b[0m \u001b[0;34m\u001b[0m\u001b[0m\n\u001b[1;32m   6121\u001b[0m         \u001b[0;32mif\u001b[0m \u001b[0mmissing\u001b[0m\u001b[0;34m:\u001b[0m\u001b[0;34m\u001b[0m\u001b[0;34m\u001b[0m\u001b[0m\n\u001b[0;32m-> 6122\u001b[0;31m             \u001b[0;32mraise\u001b[0m \u001b[0mKeyError\u001b[0m\u001b[0;34m(\u001b[0m\u001b[0;34mf\"\u001b[0m\u001b[0;34mNone of \u001b[0m\u001b[0;34m{\u001b[0m\u001b[0mmissing\u001b[0m\u001b[0;34m}\u001b[0m\u001b[0;34m are in the columns\u001b[0m\u001b[0;34m\"\u001b[0m\u001b[0;34m)\u001b[0m\u001b[0;34m\u001b[0m\u001b[0;34m\u001b[0m\u001b[0m\n\u001b[0m\u001b[1;32m   6123\u001b[0m \u001b[0;34m\u001b[0m\u001b[0m\n\u001b[1;32m   6124\u001b[0m         \u001b[0;32mif\u001b[0m \u001b[0minplace\u001b[0m\u001b[0;34m:\u001b[0m\u001b[0;34m\u001b[0m\u001b[0;34m\u001b[0m\u001b[0m\n\u001b[1;32m   6125\u001b[0m             \u001b[0mframe\u001b[0m \u001b[0;34m=\u001b[0m \u001b[0mself\u001b[0m\u001b[0;34m\u001b[0m\u001b[0;34m\u001b[0m\u001b[0m\n",
      "\u001b[0;31mKeyError\u001b[0m: \"None of ['id'] are in the columns\""
     ]
    }
   ],
   "source": [
    "owners = my_info.get_club_ids()\n",
    "clubs = get_clubs_tournament_for_owners(gql, owners)"
   ]
  },
  {
   "cell_type": "code",
   "execution_count": null,
   "metadata": {},
   "outputs": [
    {
     "name": "stdout",
     "output_type": "stream",
     "text": [
      "                    name  division  position\n",
      "id                                          \n",
      "92           Midcot Park         3        -1\n",
      "99          Roydne Villa         4        -1\n",
      "143          King's Cash         4        -1\n",
      "734          Rugh Rovers         5        -1\n",
      "1732             Wornste         5        -1\n",
      "2714            Kinfiell         5        -1\n",
      "939     Neephamsey Villa         6        -1\n",
      "981         Cleigh Villa         6        -1\n",
      "1169    Fary Des Rangers         6        -1\n",
      "1113        Mitcham Town         7        -1\n",
      "2382         Newort City         7        -1\n",
      "2383        Soughle Town         7        -1\n",
      "595       Willshund City         8        -1\n",
      "773            Beddleigh         8        -1\n",
      "807   Newortford Rangers         8        -1\n",
      "839         Hedford City         8        -1\n",
      "841          Batfiellins         8        -1\n",
      "982          Derbrielkle         8        -1\n",
      "1218           St Ellant         8        -1\n",
      "1298    Croydove Stanley         8        -1\n",
      "1321     Suthwen Rangers         8        -1\n",
      "1873        Spatfor City         8        -1\n",
      "2142       Beladhal Town         8        -1\n",
      "2199          Bast Dulsh         8        -1\n",
      "2232      Patch Athletic         8        -1\n",
      "2500           Nord Town         8        -1\n",
      "2745       St High Villa         8        -1\n",
      "2759            Martfort         8        -1\n",
      "2837        Thampton Raw         8        -1\n",
      "2855          Ruste City         8        -1\n",
      "2929        Bartock City         8        -1\n",
      "3044     Dawleyme Rovers         8        -1\n"
     ]
    }
   ],
   "source": [
    "# print a table with columns: id, name, division, position\n",
    "print(clubs[[\"name\", \"division\", \"position\"]].sort_values([\"division\", \"position\"]))\n",
    "\n"
   ]
  },
  {
   "cell_type": "code",
   "execution_count": null,
   "metadata": {},
   "outputs": [
    {
     "data": {
      "text/html": [
       "<div>\n",
       "<style scoped>\n",
       "    .dataframe tbody tr th:only-of-type {\n",
       "        vertical-align: middle;\n",
       "    }\n",
       "\n",
       "    .dataframe tbody tr th {\n",
       "        vertical-align: top;\n",
       "    }\n",
       "\n",
       "    .dataframe thead th {\n",
       "        text-align: right;\n",
       "    }\n",
       "</style>\n",
       "<table border=\"1\" class=\"dataframe\">\n",
       "  <thead>\n",
       "    <tr style=\"text-align: right;\">\n",
       "      <th></th>\n",
       "      <th>name</th>\n",
       "      <th>division</th>\n",
       "      <th>position</th>\n",
       "      <th>league</th>\n",
       "      <th>tournament_name</th>\n",
       "      <th>tournament_type</th>\n",
       "      <th>owner_id</th>\n",
       "      <th>owner_address</th>\n",
       "    </tr>\n",
       "    <tr>\n",
       "      <th>id</th>\n",
       "      <th></th>\n",
       "      <th></th>\n",
       "      <th></th>\n",
       "      <th></th>\n",
       "      <th></th>\n",
       "      <th></th>\n",
       "      <th></th>\n",
       "      <th></th>\n",
       "    </tr>\n",
       "  </thead>\n",
       "  <tbody>\n",
       "    <tr>\n",
       "      <th>92</th>\n",
       "      <td>Midcot Park</td>\n",
       "      <td>3</td>\n",
       "      <td>-1</td>\n",
       "      <td>2</td>\n",
       "      <td>Division 3 - League 2</td>\n",
       "      <td>LEAGUE</td>\n",
       "      <td>78</td>\n",
       "      <td>0x3a54470741cdf4bdcb1855b71d0a63622a0c136f</td>\n",
       "    </tr>\n",
       "    <tr>\n",
       "      <th>99</th>\n",
       "      <td>Roydne Villa</td>\n",
       "      <td>4</td>\n",
       "      <td>-1</td>\n",
       "      <td>1</td>\n",
       "      <td>Division 4 - League 1</td>\n",
       "      <td>LEAGUE</td>\n",
       "      <td>85</td>\n",
       "      <td>0x75db607aecf4f7f891d13b95c1c0ccc84c45c9fb</td>\n",
       "    </tr>\n",
       "    <tr>\n",
       "      <th>143</th>\n",
       "      <td>King's Cash</td>\n",
       "      <td>4</td>\n",
       "      <td>-1</td>\n",
       "      <td>1</td>\n",
       "      <td>Division 4 - League 1</td>\n",
       "      <td>LEAGUE</td>\n",
       "      <td>102</td>\n",
       "      <td>0x0cac51d0d54f1405c8f1ec3f37a848c3f4564db2</td>\n",
       "    </tr>\n",
       "    <tr>\n",
       "      <th>734</th>\n",
       "      <td>Rugh Rovers</td>\n",
       "      <td>5</td>\n",
       "      <td>-1</td>\n",
       "      <td>5</td>\n",
       "      <td>Division 5 - League 5</td>\n",
       "      <td>LEAGUE</td>\n",
       "      <td>462</td>\n",
       "      <td>0x422621c28f4638dbf5ea9561fd1800892227b9ea</td>\n",
       "    </tr>\n",
       "    <tr>\n",
       "      <th>1732</th>\n",
       "      <td>Wornste</td>\n",
       "      <td>5</td>\n",
       "      <td>-1</td>\n",
       "      <td>14</td>\n",
       "      <td>Division 5 - League 14</td>\n",
       "      <td>LEAGUE</td>\n",
       "      <td>1314</td>\n",
       "      <td>0x85d66018bbe0b393af753b86c1881dfca7225731</td>\n",
       "    </tr>\n",
       "  </tbody>\n",
       "</table>\n",
       "</div>"
      ],
      "text/plain": [
       "              name  division  position  league         tournament_name  \\\n",
       "id                                                                       \n",
       "92     Midcot Park         3        -1       2   Division 3 - League 2   \n",
       "99    Roydne Villa         4        -1       1   Division 4 - League 1   \n",
       "143    King's Cash         4        -1       1   Division 4 - League 1   \n",
       "734    Rugh Rovers         5        -1       5   Division 5 - League 5   \n",
       "1732       Wornste         5        -1      14  Division 5 - League 14   \n",
       "\n",
       "     tournament_type  owner_id                               owner_address  \n",
       "id                                                                          \n",
       "92            LEAGUE        78  0x3a54470741cdf4bdcb1855b71d0a63622a0c136f  \n",
       "99            LEAGUE        85  0x75db607aecf4f7f891d13b95c1c0ccc84c45c9fb  \n",
       "143           LEAGUE       102  0x0cac51d0d54f1405c8f1ec3f37a848c3f4564db2  \n",
       "734           LEAGUE       462  0x422621c28f4638dbf5ea9561fd1800892227b9ea  \n",
       "1732          LEAGUE      1314  0x85d66018bbe0b393af753b86c1881dfca7225731  "
      ]
     },
     "execution_count": 12,
     "metadata": {},
     "output_type": "execute_result"
    }
   ],
   "source": [
    "clubs.head()"
   ]
  },
  {
   "cell_type": "code",
   "execution_count": null,
   "metadata": {},
   "outputs": [
    {
     "name": "stdout",
     "output_type": "stream",
     "text": [
      "                    name  division  position\n",
      "id                                          \n",
      "92           Midcot Park         3        -1\n",
      "99          Roydne Villa         4        -1\n",
      "143          King's Cash         4        -1\n",
      "734          Rugh Rovers         5        -1\n",
      "1732             Wornste         5        -1\n",
      "2714            Kinfiell         5        -1\n",
      "939     Neephamsey Villa         6        -1\n",
      "981         Cleigh Villa         6        -1\n",
      "1169    Fary Des Rangers         6        -1\n",
      "1113        Mitcham Town         7        -1\n",
      "2382         Newort City         7        -1\n",
      "2383        Soughle Town         7        -1\n",
      "595       Willshund City         8        -1\n",
      "773            Beddleigh         8        -1\n",
      "807   Newortford Rangers         8        -1\n",
      "839         Hedford City         8        -1\n",
      "841          Batfiellins         8        -1\n",
      "982          Derbrielkle         8        -1\n",
      "1218           St Ellant         8        -1\n",
      "1298    Croydove Stanley         8        -1\n",
      "1321     Suthwen Rangers         8        -1\n",
      "1873        Spatfor City         8        -1\n",
      "2142       Beladhal Town         8        -1\n",
      "2199          Bast Dulsh         8        -1\n",
      "2232      Patch Athletic         8        -1\n",
      "2500           Nord Town         8        -1\n",
      "2745       St High Villa         8        -1\n",
      "2759            Martfort         8        -1\n",
      "2837        Thampton Raw         8        -1\n",
      "2855          Ruste City         8        -1\n",
      "2929        Bartock City         8        -1\n",
      "3044     Dawleyme Rovers         8        -1\n"
     ]
    }
   ],
   "source": [
    "# print order by position\n",
    "print(clubs[[\"name\", \"division\", \"position\"]].sort_values([\"position\", \"division\"]))"
   ]
  },
  {
   "cell_type": "code",
   "execution_count": null,
   "metadata": {},
   "outputs": [],
   "source": [
    "# save to csv\n",
    "# clubs[[\"name\", \"division\", \"position\", \"owner_id\", \"owner_address\"]].sort_values(\n",
    "#     [\"division\", \"position\"]\n",
    "# ).to_csv(\"clubs.csv\")"
   ]
  }
 ],
 "metadata": {
  "kernelspec": {
   "display_name": "fapi",
   "language": "python",
   "name": "python3"
  },
  "language_info": {
   "codemirror_mode": {
    "name": "ipython",
    "version": 3
   },
   "file_extension": ".py",
   "mimetype": "text/x-python",
   "name": "python",
   "nbconvert_exporter": "python",
   "pygments_lexer": "ipython3",
   "version": "3.12.3"
  }
 },
 "nbformat": 4,
 "nbformat_minor": 2
}
