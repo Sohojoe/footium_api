{
 "cells": [
  {
   "cell_type": "code",
   "execution_count": 2,
   "metadata": {},
   "outputs": [],
   "source": [
    "from footium_api import GqlConnection\n",
    "from footium_api.queries import get_next_fixtures\n",
    "import pandas as pd\n",
    "from datetime import datetime\n",
    "\n"
   ]
  },
  {
   "cell_type": "code",
   "execution_count": 4,
   "metadata": {},
   "outputs": [],
   "source": [
    "gql = GqlConnection()\n",
    "clubIds = [\n",
    "    78,\n",
    "    102,\n",
    "    1077,\n",
    "    2897,\n",
    "    1315,\n",
    "    2715,\n",
    "    3012,\n",
    "    1450,\n",
    "    462,\n",
    "    2774,\n",
    "    1511,\n",
    "    676,\n",
    "    1314,\n",
    "    706,\n",
    "    728,\n",
    "    1901,\n",
    "    894,\n",
    "    604,\n",
    "    2180,\n",
    "    1198,\n",
    "    85,\n",
    "    2815,\n",
    "    2388,\n",
    "    2228,\n",
    "    521,\n",
    "    577,\n",
    "    1291,\n",
    "    523,\n",
    "    1508,\n",
    "    503,\n",
    "    1278,\n",
    "    1302,\n",
    "    1834,\n",
    "    2805,\n",
    "    2839,\n",
    "    498,\n",
    "    1033,\n",
    "    1332,\n",
    "    1811,\n",
    "    1831,\n",
    "    2551,\n",
    "    2659,\n",
    "    2896,\n",
    "    2661,\n",
    "    2320,\n",
    "    2915,\n",
    "    2991,\n",
    "    2453,\n",
    "    2879,\n",
    "]\n",
    "\n",
    "\n"
   ]
  },
  {
   "cell_type": "code",
   "execution_count": 6,
   "metadata": {},
   "outputs": [
    {
     "name": "stdout",
     "output_type": "stream",
     "text": [
      "No fixtures found\n"
     ]
    }
   ],
   "source": [
    "fixtures = get_next_fixtures(gql, clubIds, 100)\n",
    "\n",
    "if len(fixtures) == 0:\n",
    "    print(\"No fixtures found\")\n",
    "else:\n",
    "\n",
    "    fixtures[\"localTime\"] = fixtures[\"realWorldTimestamp\"].dt.tz_convert(None)\n",
    "    local_tz = datetime.now().astimezone().tzinfo\n",
    "    fixtures[\"localTime\"] = fixtures[\"realWorldTimestamp\"].dt.tz_convert(local_tz)\n",
    "\n",
    "\n",
    "    # preitty print the time until kickoff\n",
    "    def format_timedelta(td):\n",
    "        total_seconds = int(td.total_seconds())\n",
    "        time_string = \"\"\n",
    "        if total_seconds < 0:\n",
    "            total_seconds = abs(total_seconds)\n",
    "            time_string += \"ago \"\n",
    "        hours, remainder = divmod(total_seconds, 3600)\n",
    "        minutes, seconds = divmod(remainder, 60)\n",
    "        if hours > 0:\n",
    "            time_string += f\"{hours}h, {minutes}m\"\n",
    "        elif minutes > 0:\n",
    "            time_string += f\"{minutes}m, {seconds}s\"\n",
    "        else:\n",
    "            time_string += f\"{seconds}s\"\n",
    "        return time_string\n",
    "\n",
    "\n",
    "    now = pd.Timestamp.now(tz=\"UTC\")\n",
    "    fixtures[\"timeToKickOff\"] = fixtures[\"realWorldTimestamp\"] - now\n",
    "    fixtures[\"timeToKickOff\"] = fixtures[\"timeToKickOff\"].apply(format_timedelta)\n",
    "\n",
    "    # order by realWorldTimestamp ascending\n",
    "    fixtures = fixtures.sort_values(by=\"realWorldTimestamp\")\n",
    "\n",
    "    print(fixtures.head())\n",
    "    # walk thrrough each row in the DataFrame and print the row\n",
    "    # for index, row in fixtures.iterrows():\n",
    "    # print(row)\n",
    "    print(fixtures.to_string(index=False))\n",
    "\n"
   ]
  }
 ],
 "metadata": {
  "kernelspec": {
   "display_name": "fapi",
   "language": "python",
   "name": "python3"
  },
  "language_info": {
   "codemirror_mode": {
    "name": "ipython",
    "version": 3
   },
   "file_extension": ".py",
   "mimetype": "text/x-python",
   "name": "python",
   "nbconvert_exporter": "python",
   "pygments_lexer": "ipython3",
   "version": "3.12.3"
  }
 },
 "nbformat": 4,
 "nbformat_minor": 2
}
